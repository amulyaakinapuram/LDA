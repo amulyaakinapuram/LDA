{
  "cells": [
    {
      "cell_type": "markdown",
      "metadata": {
        "id": "aTutcbMTXC9T"
      },
      "source": [
        "### Dataset Description"
      ]
    },
    {
      "cell_type": "markdown",
      "metadata": {
        "id": "ip2BpJKPXC9T"
      },
      "source": [
        "A team collected data on email messages to create a classifier that can separate spam \n",
        "from non-spam email messages.  "
      ]
    },
    {
      "cell_type": "code",
      "execution_count": 1,
      "metadata": {
        "colab": {
          "base_uri": "https://localhost:8080/"
        },
        "id": "MlXoM4OBXC9U",
        "outputId": "f09c23da-c63e-4905-d8ed-d80b1afcc8fe"
      },
      "outputs": [],
      "source": [
        "#importing the required libraries \n",
        "%matplotlib inline\n",
        "\n",
        "import matplotlib.pyplot as plt\n",
        "import numpy as np\n",
        "import pandas as pd\n",
        "import seaborn as sns\n",
        "from sklearn.preprocessing import StandardScaler\n",
        "from sklearn.datasets import make_classification\n",
        "from sklearn.model_selection import cross_val_score\n",
        "from sklearn.model_selection import RepeatedStratifiedKFold\n",
        "from sklearn.discriminant_analysis import LinearDiscriminantAnalysis\n",
        "from sklearn.model_selection import train_test_split\n",
        "from sklearn.feature_extraction.text import CountVectorizer\n",
        "from sklearn import svm \n",
        "from dmba import classificationSummary\n",
        "from dmba import liftChart, gainsChart"
      ]
    },
    {
      "cell_type": "code",
      "execution_count": 4,
      "metadata": {
        "colab": {
          "base_uri": "https://localhost:8080/",
          "height": 235
        },
        "id": "YsaJtBO6XC9V",
        "outputId": "e0c68931-b961-45c8-acd2-9b734b344241"
      },
      "outputs": [
        {
          "data": {
            "text/html": [
              "\n",
              "  <div id=\"df-4547f5ef-eac4-4e53-bd43-28e3f621ef75\">\n",
              "    <div class=\"colab-df-container\">\n",
              "      <div>\n",
              "<style scoped>\n",
              "    .dataframe tbody tr th:only-of-type {\n",
              "        vertical-align: middle;\n",
              "    }\n",
              "\n",
              "    .dataframe tbody tr th {\n",
              "        vertical-align: top;\n",
              "    }\n",
              "\n",
              "    .dataframe thead th {\n",
              "        text-align: right;\n",
              "    }\n",
              "</style>\n",
              "<table border=\"1\" class=\"dataframe\">\n",
              "  <thead>\n",
              "    <tr style=\"text-align: right;\">\n",
              "      <th></th>\n",
              "      <th>make</th>\n",
              "      <th>address</th>\n",
              "      <th>all</th>\n",
              "      <th>W_3d</th>\n",
              "      <th>our</th>\n",
              "      <th>over</th>\n",
              "      <th>remove</th>\n",
              "      <th>internet</th>\n",
              "      <th>order</th>\n",
              "      <th>mail</th>\n",
              "      <th>...</th>\n",
              "      <th>C;</th>\n",
              "      <th>C(</th>\n",
              "      <th>C[</th>\n",
              "      <th>C!</th>\n",
              "      <th>C$</th>\n",
              "      <th>C#</th>\n",
              "      <th>CAP_avg</th>\n",
              "      <th>CAP_long</th>\n",
              "      <th>CAP_tot</th>\n",
              "      <th>Spam</th>\n",
              "    </tr>\n",
              "  </thead>\n",
              "  <tbody>\n",
              "    <tr>\n",
              "      <th>0</th>\n",
              "      <td>0.00</td>\n",
              "      <td>0.64</td>\n",
              "      <td>0.64</td>\n",
              "      <td>0.0</td>\n",
              "      <td>0.32</td>\n",
              "      <td>0.00</td>\n",
              "      <td>0.00</td>\n",
              "      <td>0.00</td>\n",
              "      <td>0.00</td>\n",
              "      <td>0.00</td>\n",
              "      <td>...</td>\n",
              "      <td>0.00</td>\n",
              "      <td>0.000</td>\n",
              "      <td>0.0</td>\n",
              "      <td>0.778</td>\n",
              "      <td>0.000</td>\n",
              "      <td>0.000</td>\n",
              "      <td>3.756</td>\n",
              "      <td>61</td>\n",
              "      <td>278</td>\n",
              "      <td>1</td>\n",
              "    </tr>\n",
              "    <tr>\n",
              "      <th>1</th>\n",
              "      <td>0.21</td>\n",
              "      <td>0.28</td>\n",
              "      <td>0.50</td>\n",
              "      <td>0.0</td>\n",
              "      <td>0.14</td>\n",
              "      <td>0.28</td>\n",
              "      <td>0.21</td>\n",
              "      <td>0.07</td>\n",
              "      <td>0.00</td>\n",
              "      <td>0.94</td>\n",
              "      <td>...</td>\n",
              "      <td>0.00</td>\n",
              "      <td>0.132</td>\n",
              "      <td>0.0</td>\n",
              "      <td>0.372</td>\n",
              "      <td>0.180</td>\n",
              "      <td>0.048</td>\n",
              "      <td>5.114</td>\n",
              "      <td>101</td>\n",
              "      <td>1028</td>\n",
              "      <td>1</td>\n",
              "    </tr>\n",
              "    <tr>\n",
              "      <th>2</th>\n",
              "      <td>0.06</td>\n",
              "      <td>0.00</td>\n",
              "      <td>0.71</td>\n",
              "      <td>0.0</td>\n",
              "      <td>1.23</td>\n",
              "      <td>0.19</td>\n",
              "      <td>0.19</td>\n",
              "      <td>0.12</td>\n",
              "      <td>0.64</td>\n",
              "      <td>0.25</td>\n",
              "      <td>...</td>\n",
              "      <td>0.01</td>\n",
              "      <td>0.143</td>\n",
              "      <td>0.0</td>\n",
              "      <td>0.276</td>\n",
              "      <td>0.184</td>\n",
              "      <td>0.010</td>\n",
              "      <td>9.821</td>\n",
              "      <td>485</td>\n",
              "      <td>2259</td>\n",
              "      <td>1</td>\n",
              "    </tr>\n",
              "    <tr>\n",
              "      <th>3</th>\n",
              "      <td>0.00</td>\n",
              "      <td>0.00</td>\n",
              "      <td>0.00</td>\n",
              "      <td>0.0</td>\n",
              "      <td>0.63</td>\n",
              "      <td>0.00</td>\n",
              "      <td>0.31</td>\n",
              "      <td>0.63</td>\n",
              "      <td>0.31</td>\n",
              "      <td>0.63</td>\n",
              "      <td>...</td>\n",
              "      <td>0.00</td>\n",
              "      <td>0.137</td>\n",
              "      <td>0.0</td>\n",
              "      <td>0.137</td>\n",
              "      <td>0.000</td>\n",
              "      <td>0.000</td>\n",
              "      <td>3.537</td>\n",
              "      <td>40</td>\n",
              "      <td>191</td>\n",
              "      <td>1</td>\n",
              "    </tr>\n",
              "    <tr>\n",
              "      <th>4</th>\n",
              "      <td>0.00</td>\n",
              "      <td>0.00</td>\n",
              "      <td>0.00</td>\n",
              "      <td>0.0</td>\n",
              "      <td>0.63</td>\n",
              "      <td>0.00</td>\n",
              "      <td>0.31</td>\n",
              "      <td>0.63</td>\n",
              "      <td>0.31</td>\n",
              "      <td>0.63</td>\n",
              "      <td>...</td>\n",
              "      <td>0.00</td>\n",
              "      <td>0.135</td>\n",
              "      <td>0.0</td>\n",
              "      <td>0.135</td>\n",
              "      <td>0.000</td>\n",
              "      <td>0.000</td>\n",
              "      <td>3.537</td>\n",
              "      <td>40</td>\n",
              "      <td>191</td>\n",
              "      <td>1</td>\n",
              "    </tr>\n",
              "  </tbody>\n",
              "</table>\n",
              "<p>5 rows × 58 columns</p>\n",
              "</div>\n",
              "      <button class=\"colab-df-convert\" onclick=\"convertToInteractive('df-4547f5ef-eac4-4e53-bd43-28e3f621ef75')\"\n",
              "              title=\"Convert this dataframe to an interactive table.\"\n",
              "              style=\"display:none;\">\n",
              "        \n",
              "  <svg xmlns=\"http://www.w3.org/2000/svg\" height=\"24px\"viewBox=\"0 0 24 24\"\n",
              "       width=\"24px\">\n",
              "    <path d=\"M0 0h24v24H0V0z\" fill=\"none\"/>\n",
              "    <path d=\"M18.56 5.44l.94 2.06.94-2.06 2.06-.94-2.06-.94-.94-2.06-.94 2.06-2.06.94zm-11 1L8.5 8.5l.94-2.06 2.06-.94-2.06-.94L8.5 2.5l-.94 2.06-2.06.94zm10 10l.94 2.06.94-2.06 2.06-.94-2.06-.94-.94-2.06-.94 2.06-2.06.94z\"/><path d=\"M17.41 7.96l-1.37-1.37c-.4-.4-.92-.59-1.43-.59-.52 0-1.04.2-1.43.59L10.3 9.45l-7.72 7.72c-.78.78-.78 2.05 0 2.83L4 21.41c.39.39.9.59 1.41.59.51 0 1.02-.2 1.41-.59l7.78-7.78 2.81-2.81c.8-.78.8-2.07 0-2.86zM5.41 20L4 18.59l7.72-7.72 1.47 1.35L5.41 20z\"/>\n",
              "  </svg>\n",
              "      </button>\n",
              "      \n",
              "  <style>\n",
              "    .colab-df-container {\n",
              "      display:flex;\n",
              "      flex-wrap:wrap;\n",
              "      gap: 12px;\n",
              "    }\n",
              "\n",
              "    .colab-df-convert {\n",
              "      background-color: #E8F0FE;\n",
              "      border: none;\n",
              "      border-radius: 50%;\n",
              "      cursor: pointer;\n",
              "      display: none;\n",
              "      fill: #1967D2;\n",
              "      height: 32px;\n",
              "      padding: 0 0 0 0;\n",
              "      width: 32px;\n",
              "    }\n",
              "\n",
              "    .colab-df-convert:hover {\n",
              "      background-color: #E2EBFA;\n",
              "      box-shadow: 0px 1px 2px rgba(60, 64, 67, 0.3), 0px 1px 3px 1px rgba(60, 64, 67, 0.15);\n",
              "      fill: #174EA6;\n",
              "    }\n",
              "\n",
              "    [theme=dark] .colab-df-convert {\n",
              "      background-color: #3B4455;\n",
              "      fill: #D2E3FC;\n",
              "    }\n",
              "\n",
              "    [theme=dark] .colab-df-convert:hover {\n",
              "      background-color: #434B5C;\n",
              "      box-shadow: 0px 1px 3px 1px rgba(0, 0, 0, 0.15);\n",
              "      filter: drop-shadow(0px 1px 2px rgba(0, 0, 0, 0.3));\n",
              "      fill: #FFFFFF;\n",
              "    }\n",
              "  </style>\n",
              "\n",
              "      <script>\n",
              "        const buttonEl =\n",
              "          document.querySelector('#df-4547f5ef-eac4-4e53-bd43-28e3f621ef75 button.colab-df-convert');\n",
              "        buttonEl.style.display =\n",
              "          google.colab.kernel.accessAllowed ? 'block' : 'none';\n",
              "\n",
              "        async function convertToInteractive(key) {\n",
              "          const element = document.querySelector('#df-4547f5ef-eac4-4e53-bd43-28e3f621ef75');\n",
              "          const dataTable =\n",
              "            await google.colab.kernel.invokeFunction('convertToInteractive',\n",
              "                                                     [key], {});\n",
              "          if (!dataTable) return;\n",
              "\n",
              "          const docLinkHtml = 'Like what you see? Visit the ' +\n",
              "            '<a target=\"_blank\" href=https://colab.research.google.com/notebooks/data_table.ipynb>data table notebook</a>'\n",
              "            + ' to learn more about interactive tables.';\n",
              "          element.innerHTML = '';\n",
              "          dataTable['output_type'] = 'display_data';\n",
              "          await google.colab.output.renderOutput(dataTable, element);\n",
              "          const docLink = document.createElement('div');\n",
              "          docLink.innerHTML = docLinkHtml;\n",
              "          element.appendChild(docLink);\n",
              "        }\n",
              "      </script>\n",
              "    </div>\n",
              "  </div>\n",
              "  "
            ],
            "text/plain": [
              "   make  address   all  W_3d   our  over  remove  internet  order  mail  ...  \\\n",
              "0  0.00     0.64  0.64   0.0  0.32  0.00    0.00      0.00   0.00  0.00  ...   \n",
              "1  0.21     0.28  0.50   0.0  0.14  0.28    0.21      0.07   0.00  0.94  ...   \n",
              "2  0.06     0.00  0.71   0.0  1.23  0.19    0.19      0.12   0.64  0.25  ...   \n",
              "3  0.00     0.00  0.00   0.0  0.63  0.00    0.31      0.63   0.31  0.63  ...   \n",
              "4  0.00     0.00  0.00   0.0  0.63  0.00    0.31      0.63   0.31  0.63  ...   \n",
              "\n",
              "     C;     C(   C[     C!     C$     C#  CAP_avg  CAP_long  CAP_tot  Spam  \n",
              "0  0.00  0.000  0.0  0.778  0.000  0.000    3.756        61      278     1  \n",
              "1  0.00  0.132  0.0  0.372  0.180  0.048    5.114       101     1028     1  \n",
              "2  0.01  0.143  0.0  0.276  0.184  0.010    9.821       485     2259     1  \n",
              "3  0.00  0.137  0.0  0.137  0.000  0.000    3.537        40      191     1  \n",
              "4  0.00  0.135  0.0  0.135  0.000  0.000    3.537        40      191     1  \n",
              "\n",
              "[5 rows x 58 columns]"
            ]
          },
          "execution_count": 4,
          "metadata": {},
          "output_type": "execute_result"
        }
      ],
      "source": [
        "spam_df=pd.read_csv('Spambase.csv')\n",
        "spam_df.head()"
      ]
    },
    {
      "cell_type": "code",
      "execution_count": 5,
      "metadata": {
        "id": "K7PaAxv2XC9W"
      },
      "outputs": [],
      "source": [
        "spam_yes = spam_df[spam_df['Spam'] == 1]\n",
        "spam_no = spam_df[spam_df['Spam'] == 0]"
      ]
    },
    {
      "cell_type": "code",
      "execution_count": 6,
      "metadata": {
        "colab": {
          "base_uri": "https://localhost:8080/"
        },
        "id": "gR6IXV8-XC9W",
        "outputId": "3f75b683-8f21-4a0f-95b1-e6420700dda7"
      },
      "outputs": [
        {
          "data": {
            "text/plain": [
              "0    2788\n",
              "1    1813\n",
              "Name: Spam, dtype: int64"
            ]
          },
          "execution_count": 6,
          "metadata": {},
          "output_type": "execute_result"
        }
      ],
      "source": [
        "spam_df.Spam.value_counts()"
      ]
    },
    {
      "cell_type": "markdown",
      "metadata": {},
      "source": [
        "### Q1"
      ]
    },
    {
      "cell_type": "markdown",
      "metadata": {
        "id": "tMuC7rxoXC9W"
      },
      "source": [
        " Examine how each predictor differs between the spam and non-spam e-mails by comparing the spam-class average and non-spam-class average.  Identify 10 predictors for which the difference between the spam-class average and the non-spam class average is the highest.   "
      ]
    },
    {
      "cell_type": "code",
      "execution_count": 7,
      "metadata": {
        "colab": {
          "base_uri": "https://localhost:8080/"
        },
        "id": "254hzXALXC9X",
        "outputId": "130541a2-53dc-4828-c284-d2a0aaf716a6"
      },
      "outputs": [
        {
          "name": "stdout",
          "output_type": "stream",
          "text": [
            "make            0.078859\n",
            "address        -0.079816\n",
            "all             0.203214\n",
            "W_3d            0.163786\n",
            "our             0.332915\n",
            "over            0.130331\n",
            "remove          0.266022\n",
            "internet        0.169727\n",
            "order           0.132012\n",
            "mail            0.183337\n",
            "receive         0.096723\n",
            "will            0.013649\n",
            "people          0.081882\n",
            "report          0.041171\n",
            "addresses       0.103762\n",
            "free            0.444775\n",
            "business        0.239160\n",
            "email           0.221936\n",
            "you             0.994199\n",
            "credit          0.197942\n",
            "your            0.941668\n",
            "font            0.192810\n",
            "W_000           0.239967\n",
            "money           0.195741\n",
            "hp             -0.877994\n",
            "hpl            -0.422822\n",
            "george         -1.263716\n",
            "W_650          -0.175008\n",
            "lab            -0.162110\n",
            "labs           -0.159886\n",
            "telnet         -0.104759\n",
            "W_857          -0.076788\n",
            "data           -0.136425\n",
            "W_415          -0.076011\n",
            "W_85           -0.162527\n",
            "technology     -0.112157\n",
            "W_1999         -0.154275\n",
            "parts          -0.014013\n",
            "pm             -0.109252\n",
            "direct         -0.046399\n",
            "cs             -0.071971\n",
            "meeting        -0.214364\n",
            "original       -0.062131\n",
            "project        -0.120392\n",
            "re:            -0.290669\n",
            "edu            -0.272457\n",
            "table          -0.006973\n",
            "conference     -0.049125\n",
            "C;             -0.029708\n",
            "C(             -0.049608\n",
            "C[             -0.014485\n",
            "C!              0.403729\n",
            "C$              0.162830\n",
            "C#              0.057164\n",
            "CAP_avg         7.141864\n",
            "CAP_long       86.178780\n",
            "CAP_tot       309.148468\n",
            "dtype: float64\n"
          ]
        }
      ],
      "source": [
        "spamyes_avg = spam_yes.loc[ : , spam_yes.columns != 'Spam'].mean()\n",
        "spamno_avg = spam_no.loc[ : , spam_no.columns != 'Spam'].mean()\n",
        "\n",
        "print(spamyes_avg - spamno_avg)\n"
      ]
    },
    {
      "cell_type": "code",
      "execution_count": 8,
      "metadata": {
        "colab": {
          "base_uri": "https://localhost:8080/"
        },
        "id": "AhVEfJSWXC9X",
        "outputId": "4cb68a51-78e6-4042-e302-1c0fa15be02f"
      },
      "outputs": [
        {
          "data": {
            "text/plain": [
              "CAP_tot     309.148468\n",
              "CAP_long     86.178780\n",
              "CAP_avg       7.141864\n",
              "george        1.263716\n",
              "you           0.994199\n",
              "your          0.941668\n",
              "hp            0.877994\n",
              "free          0.444775\n",
              "hpl           0.422822\n",
              "C!            0.403729\n",
              "dtype: float64"
            ]
          },
          "execution_count": 8,
          "metadata": {},
          "output_type": "execute_result"
        }
      ],
      "source": [
        "diff_df=abs((spamyes_avg - spamno_avg)).nlargest(n=10)\n",
        "diff_df"
      ]
    },
    {
      "cell_type": "markdown",
      "metadata": {
        "id": "kWegife9XC9X"
      },
      "source": [
        "### Response 1"
      ]
    },
    {
      "cell_type": "markdown",
      "metadata": {
        "id": "Ma4s5UpOXC9X"
      },
      "source": [
        "The top ten predictors with the highest difference between the spam-class average and the non-spam class average are CAP_tot, CAP_long, CAP_avg, george, you, your, hp, free, hpl, and C!."
      ]
    },
    {
      "cell_type": "markdown",
      "metadata": {},
      "source": [
        "### Q2"
      ]
    },
    {
      "cell_type": "markdown",
      "metadata": {
        "id": "tJOD22SWXC9Y"
      },
      "source": [
        " Among those predictors, which words or signs appear more often in spam emails? "
      ]
    },
    {
      "cell_type": "code",
      "execution_count": 9,
      "metadata": {
        "colab": {
          "base_uri": "https://localhost:8080/"
        },
        "id": "bM94Ik-lXC9Y",
        "outputId": "dbb7a55e-e3b6-4aac-863f-ea0289dbcb65"
      },
      "outputs": [
        {
          "data": {
            "text/plain": [
              "CAP_tot     471.0\n",
              "CAP_long    104.0\n",
              "CAP_avg      10.0\n",
              "you           2.0\n",
              "your          1.0\n",
              "will          1.0\n",
              "free          1.0\n",
              "our           1.0\n",
              "C!            1.0\n",
              "all           0.0\n",
              "dtype: float64"
            ]
          },
          "execution_count": 9,
          "metadata": {},
          "output_type": "execute_result"
        }
      ],
      "source": [
        "spamyes_avg.nlargest(n=10).round(0)"
      ]
    },
    {
      "cell_type": "code",
      "execution_count": 10,
      "metadata": {
        "colab": {
          "base_uri": "https://localhost:8080/"
        },
        "id": "Cgb66wFzp6h3",
        "outputId": "f742ac7d-0902-4afe-927a-8b83bae9f252"
      },
      "outputs": [
        {
          "data": {
            "text/plain": [
              "CAP_tot     161.0\n",
              "CAP_long     18.0\n",
              "CAP_avg       2.0\n",
              "you           1.0\n",
              "george        1.0\n",
              "hp            1.0\n",
              "will          1.0\n",
              "your          0.0\n",
              "hpl           0.0\n",
              "re:           0.0\n",
              "dtype: float64"
            ]
          },
          "execution_count": 10,
          "metadata": {},
          "output_type": "execute_result"
        }
      ],
      "source": [
        "spamno_avg.nlargest(n=10).round(0)"
      ]
    },
    {
      "cell_type": "markdown",
      "metadata": {
        "id": "lBF6pcXHXC9Y"
      },
      "source": [
        "### Response 2"
      ]
    },
    {
      "cell_type": "markdown",
      "metadata": {
        "id": "D-n3WW_UXC9Y"
      },
      "source": [
        "The words that appeared more often in spam mails are CAP_tot(471),\n",
        "CAP_long(104),CAP_avg(10),you(2),your(1),will(1),free(1)our(1),C!(1),all(0)."
      ]
    },
    {
      "cell_type": "markdown",
      "metadata": {},
      "source": [
        "### Q3"
      ]
    },
    {
      "cell_type": "markdown",
      "metadata": {
        "id": "Kul7rMGoXC9Y"
      },
      "source": [
        " Perform a linear discriminant analysis using the training dataset (60 percent of observations in the original dataset.Include only 10 predictors identified in the question above in the LDA model."
      ]
    },
    {
      "cell_type": "code",
      "execution_count": 11,
      "metadata": {
        "colab": {
          "base_uri": "https://localhost:8080/"
        },
        "id": "1NUxlUa9cGai",
        "outputId": "26573204-8695-4418-a6c7-827ad00cf804"
      },
      "outputs": [
        {
          "name": "stdout",
          "output_type": "stream",
          "text": [
            "Index(['CAP_tot', 'CAP_long', 'CAP_avg', 'george', 'you ', 'your', 'hp',\n",
            "       'free', 'hpl', 'C!'],\n",
            "      dtype='object')\n"
          ]
        }
      ],
      "source": [
        "print (diff_df.index)\n"
      ]
    },
    {
      "cell_type": "code",
      "execution_count": 12,
      "metadata": {
        "colab": {
          "base_uri": "https://localhost:8080/"
        },
        "id": "6wITxJnccPgB",
        "outputId": "d76902b5-b383-4264-d355-8d324b040155"
      },
      "outputs": [
        {
          "data": {
            "text/plain": [
              "LinearDiscriminantAnalysis()"
            ]
          },
          "execution_count": 12,
          "metadata": {},
          "output_type": "execute_result"
        }
      ],
      "source": [
        "diff_columns = (diff_df.index)\n",
        "predictors = [col for col in spam_df.columns if col in diff_columns]\n",
        "y = spam_df.Spam\n",
        "X = spam_df[predictors]\n",
        "X_train,X_valid,y_train, y_valid = train_test_split(X, y, test_size=0.4, random_state=123)\n",
        "lda = LinearDiscriminantAnalysis()\n",
        "lda.fit(X_train, y_train)"
      ]
    },
    {
      "cell_type": "code",
      "execution_count": 13,
      "metadata": {
        "colab": {
          "base_uri": "https://localhost:8080/",
          "height": 423
        },
        "id": "jSteA0vxdts3",
        "outputId": "6e7ff61a-255a-47c6-d838-68852b8869a4"
      },
      "outputs": [
        {
          "data": {
            "text/html": [
              "\n",
              "  <div id=\"df-ae4d1efa-3b14-447c-916a-36ed84ec3a2b\">\n",
              "    <div class=\"colab-df-container\">\n",
              "      <div>\n",
              "<style scoped>\n",
              "    .dataframe tbody tr th:only-of-type {\n",
              "        vertical-align: middle;\n",
              "    }\n",
              "\n",
              "    .dataframe tbody tr th {\n",
              "        vertical-align: top;\n",
              "    }\n",
              "\n",
              "    .dataframe thead th {\n",
              "        text-align: right;\n",
              "    }\n",
              "</style>\n",
              "<table border=\"1\" class=\"dataframe\">\n",
              "  <thead>\n",
              "    <tr style=\"text-align: right;\">\n",
              "      <th></th>\n",
              "      <th>free</th>\n",
              "      <th>you</th>\n",
              "      <th>your</th>\n",
              "      <th>hp</th>\n",
              "      <th>hpl</th>\n",
              "      <th>george</th>\n",
              "      <th>C!</th>\n",
              "      <th>CAP_avg</th>\n",
              "      <th>CAP_long</th>\n",
              "      <th>CAP_tot</th>\n",
              "    </tr>\n",
              "  </thead>\n",
              "  <tbody>\n",
              "    <tr>\n",
              "      <th>501</th>\n",
              "      <td>0.00</td>\n",
              "      <td>0.00</td>\n",
              "      <td>0.00</td>\n",
              "      <td>0.0</td>\n",
              "      <td>0.0</td>\n",
              "      <td>0.00</td>\n",
              "      <td>0.408</td>\n",
              "      <td>4.100</td>\n",
              "      <td>25</td>\n",
              "      <td>82</td>\n",
              "    </tr>\n",
              "    <tr>\n",
              "      <th>1262</th>\n",
              "      <td>0.00</td>\n",
              "      <td>1.76</td>\n",
              "      <td>2.20</td>\n",
              "      <td>0.0</td>\n",
              "      <td>0.0</td>\n",
              "      <td>0.00</td>\n",
              "      <td>0.444</td>\n",
              "      <td>2.413</td>\n",
              "      <td>16</td>\n",
              "      <td>140</td>\n",
              "    </tr>\n",
              "    <tr>\n",
              "      <th>1846</th>\n",
              "      <td>0.00</td>\n",
              "      <td>3.18</td>\n",
              "      <td>0.00</td>\n",
              "      <td>0.0</td>\n",
              "      <td>0.0</td>\n",
              "      <td>0.00</td>\n",
              "      <td>0.000</td>\n",
              "      <td>2.510</td>\n",
              "      <td>12</td>\n",
              "      <td>123</td>\n",
              "    </tr>\n",
              "    <tr>\n",
              "      <th>4295</th>\n",
              "      <td>0.00</td>\n",
              "      <td>4.95</td>\n",
              "      <td>0.99</td>\n",
              "      <td>0.0</td>\n",
              "      <td>0.0</td>\n",
              "      <td>0.00</td>\n",
              "      <td>0.000</td>\n",
              "      <td>1.222</td>\n",
              "      <td>4</td>\n",
              "      <td>22</td>\n",
              "    </tr>\n",
              "    <tr>\n",
              "      <th>1815</th>\n",
              "      <td>0.00</td>\n",
              "      <td>0.00</td>\n",
              "      <td>0.00</td>\n",
              "      <td>0.0</td>\n",
              "      <td>0.0</td>\n",
              "      <td>33.33</td>\n",
              "      <td>0.000</td>\n",
              "      <td>1.000</td>\n",
              "      <td>1</td>\n",
              "      <td>3</td>\n",
              "    </tr>\n",
              "    <tr>\n",
              "      <th>...</th>\n",
              "      <td>...</td>\n",
              "      <td>...</td>\n",
              "      <td>...</td>\n",
              "      <td>...</td>\n",
              "      <td>...</td>\n",
              "      <td>...</td>\n",
              "      <td>...</td>\n",
              "      <td>...</td>\n",
              "      <td>...</td>\n",
              "      <td>...</td>\n",
              "    </tr>\n",
              "    <tr>\n",
              "      <th>1593</th>\n",
              "      <td>1.85</td>\n",
              "      <td>1.85</td>\n",
              "      <td>0.00</td>\n",
              "      <td>0.0</td>\n",
              "      <td>0.0</td>\n",
              "      <td>0.00</td>\n",
              "      <td>3.768</td>\n",
              "      <td>4.833</td>\n",
              "      <td>29</td>\n",
              "      <td>87</td>\n",
              "    </tr>\n",
              "    <tr>\n",
              "      <th>4060</th>\n",
              "      <td>0.00</td>\n",
              "      <td>0.00</td>\n",
              "      <td>0.00</td>\n",
              "      <td>0.0</td>\n",
              "      <td>0.0</td>\n",
              "      <td>0.00</td>\n",
              "      <td>0.943</td>\n",
              "      <td>2.166</td>\n",
              "      <td>5</td>\n",
              "      <td>13</td>\n",
              "    </tr>\n",
              "    <tr>\n",
              "      <th>1346</th>\n",
              "      <td>0.61</td>\n",
              "      <td>4.55</td>\n",
              "      <td>1.72</td>\n",
              "      <td>0.0</td>\n",
              "      <td>0.0</td>\n",
              "      <td>0.00</td>\n",
              "      <td>0.104</td>\n",
              "      <td>3.705</td>\n",
              "      <td>54</td>\n",
              "      <td>478</td>\n",
              "    </tr>\n",
              "    <tr>\n",
              "      <th>3454</th>\n",
              "      <td>0.00</td>\n",
              "      <td>0.00</td>\n",
              "      <td>0.00</td>\n",
              "      <td>0.0</td>\n",
              "      <td>0.0</td>\n",
              "      <td>0.00</td>\n",
              "      <td>0.000</td>\n",
              "      <td>2.444</td>\n",
              "      <td>76</td>\n",
              "      <td>198</td>\n",
              "    </tr>\n",
              "    <tr>\n",
              "      <th>3582</th>\n",
              "      <td>0.00</td>\n",
              "      <td>0.00</td>\n",
              "      <td>0.00</td>\n",
              "      <td>0.0</td>\n",
              "      <td>0.0</td>\n",
              "      <td>20.00</td>\n",
              "      <td>0.000</td>\n",
              "      <td>1.000</td>\n",
              "      <td>1</td>\n",
              "      <td>5</td>\n",
              "    </tr>\n",
              "  </tbody>\n",
              "</table>\n",
              "<p>2760 rows × 10 columns</p>\n",
              "</div>\n",
              "      <button class=\"colab-df-convert\" onclick=\"convertToInteractive('df-ae4d1efa-3b14-447c-916a-36ed84ec3a2b')\"\n",
              "              title=\"Convert this dataframe to an interactive table.\"\n",
              "              style=\"display:none;\">\n",
              "        \n",
              "  <svg xmlns=\"http://www.w3.org/2000/svg\" height=\"24px\"viewBox=\"0 0 24 24\"\n",
              "       width=\"24px\">\n",
              "    <path d=\"M0 0h24v24H0V0z\" fill=\"none\"/>\n",
              "    <path d=\"M18.56 5.44l.94 2.06.94-2.06 2.06-.94-2.06-.94-.94-2.06-.94 2.06-2.06.94zm-11 1L8.5 8.5l.94-2.06 2.06-.94-2.06-.94L8.5 2.5l-.94 2.06-2.06.94zm10 10l.94 2.06.94-2.06 2.06-.94-2.06-.94-.94-2.06-.94 2.06-2.06.94z\"/><path d=\"M17.41 7.96l-1.37-1.37c-.4-.4-.92-.59-1.43-.59-.52 0-1.04.2-1.43.59L10.3 9.45l-7.72 7.72c-.78.78-.78 2.05 0 2.83L4 21.41c.39.39.9.59 1.41.59.51 0 1.02-.2 1.41-.59l7.78-7.78 2.81-2.81c.8-.78.8-2.07 0-2.86zM5.41 20L4 18.59l7.72-7.72 1.47 1.35L5.41 20z\"/>\n",
              "  </svg>\n",
              "      </button>\n",
              "      \n",
              "  <style>\n",
              "    .colab-df-container {\n",
              "      display:flex;\n",
              "      flex-wrap:wrap;\n",
              "      gap: 12px;\n",
              "    }\n",
              "\n",
              "    .colab-df-convert {\n",
              "      background-color: #E8F0FE;\n",
              "      border: none;\n",
              "      border-radius: 50%;\n",
              "      cursor: pointer;\n",
              "      display: none;\n",
              "      fill: #1967D2;\n",
              "      height: 32px;\n",
              "      padding: 0 0 0 0;\n",
              "      width: 32px;\n",
              "    }\n",
              "\n",
              "    .colab-df-convert:hover {\n",
              "      background-color: #E2EBFA;\n",
              "      box-shadow: 0px 1px 2px rgba(60, 64, 67, 0.3), 0px 1px 3px 1px rgba(60, 64, 67, 0.15);\n",
              "      fill: #174EA6;\n",
              "    }\n",
              "\n",
              "    [theme=dark] .colab-df-convert {\n",
              "      background-color: #3B4455;\n",
              "      fill: #D2E3FC;\n",
              "    }\n",
              "\n",
              "    [theme=dark] .colab-df-convert:hover {\n",
              "      background-color: #434B5C;\n",
              "      box-shadow: 0px 1px 3px 1px rgba(0, 0, 0, 0.15);\n",
              "      filter: drop-shadow(0px 1px 2px rgba(0, 0, 0, 0.3));\n",
              "      fill: #FFFFFF;\n",
              "    }\n",
              "  </style>\n",
              "\n",
              "      <script>\n",
              "        const buttonEl =\n",
              "          document.querySelector('#df-ae4d1efa-3b14-447c-916a-36ed84ec3a2b button.colab-df-convert');\n",
              "        buttonEl.style.display =\n",
              "          google.colab.kernel.accessAllowed ? 'block' : 'none';\n",
              "\n",
              "        async function convertToInteractive(key) {\n",
              "          const element = document.querySelector('#df-ae4d1efa-3b14-447c-916a-36ed84ec3a2b');\n",
              "          const dataTable =\n",
              "            await google.colab.kernel.invokeFunction('convertToInteractive',\n",
              "                                                     [key], {});\n",
              "          if (!dataTable) return;\n",
              "\n",
              "          const docLinkHtml = 'Like what you see? Visit the ' +\n",
              "            '<a target=\"_blank\" href=https://colab.research.google.com/notebooks/data_table.ipynb>data table notebook</a>'\n",
              "            + ' to learn more about interactive tables.';\n",
              "          element.innerHTML = '';\n",
              "          dataTable['output_type'] = 'display_data';\n",
              "          await google.colab.output.renderOutput(dataTable, element);\n",
              "          const docLink = document.createElement('div');\n",
              "          docLink.innerHTML = docLinkHtml;\n",
              "          element.appendChild(docLink);\n",
              "        }\n",
              "      </script>\n",
              "    </div>\n",
              "  </div>\n",
              "  "
            ],
            "text/plain": [
              "      free  you   your   hp  hpl  george     C!  CAP_avg  CAP_long  CAP_tot\n",
              "501   0.00  0.00  0.00  0.0  0.0    0.00  0.408    4.100        25       82\n",
              "1262  0.00  1.76  2.20  0.0  0.0    0.00  0.444    2.413        16      140\n",
              "1846  0.00  3.18  0.00  0.0  0.0    0.00  0.000    2.510        12      123\n",
              "4295  0.00  4.95  0.99  0.0  0.0    0.00  0.000    1.222         4       22\n",
              "1815  0.00  0.00  0.00  0.0  0.0   33.33  0.000    1.000         1        3\n",
              "...    ...   ...   ...  ...  ...     ...    ...      ...       ...      ...\n",
              "1593  1.85  1.85  0.00  0.0  0.0    0.00  3.768    4.833        29       87\n",
              "4060  0.00  0.00  0.00  0.0  0.0    0.00  0.943    2.166         5       13\n",
              "1346  0.61  4.55  1.72  0.0  0.0    0.00  0.104    3.705        54      478\n",
              "3454  0.00  0.00  0.00  0.0  0.0    0.00  0.000    2.444        76      198\n",
              "3582  0.00  0.00  0.00  0.0  0.0   20.00  0.000    1.000         1        5\n",
              "\n",
              "[2760 rows x 10 columns]"
            ]
          },
          "execution_count": 13,
          "metadata": {},
          "output_type": "execute_result"
        }
      ],
      "source": [
        "X_train"
      ]
    },
    {
      "cell_type": "code",
      "execution_count": 14,
      "metadata": {
        "colab": {
          "base_uri": "https://localhost:8080/"
        },
        "id": "eKNJaXIAdvuM",
        "outputId": "af1e9d31-9678-4738-e8ea-b335eccc1e90"
      },
      "outputs": [
        {
          "data": {
            "text/plain": [
              "501     1\n",
              "1262    1\n",
              "1846    0\n",
              "4295    0\n",
              "1815    0\n",
              "       ..\n",
              "1593    1\n",
              "4060    0\n",
              "1346    1\n",
              "3454    0\n",
              "3582    0\n",
              "Name: Spam, Length: 2760, dtype: int64"
            ]
          },
          "execution_count": 14,
          "metadata": {},
          "output_type": "execute_result"
        }
      ],
      "source": [
        "y_train"
      ]
    },
    {
      "cell_type": "markdown",
      "metadata": {},
      "source": [
        "### Q4"
      ]
    },
    {
      "cell_type": "markdown",
      "metadata": {
        "id": "YY1JtAtcXC9Z"
      },
      "source": [
        "What are the coefficients of linear discriminants?  How are these coefficients used in your LDA analysis? \n"
      ]
    },
    {
      "cell_type": "code",
      "execution_count": 15,
      "metadata": {
        "colab": {
          "base_uri": "https://localhost:8080/"
        },
        "id": "MFwjBFEvXC9a",
        "outputId": "84134cd6-0302-486e-b9e7-9c79650fd3a3"
      },
      "outputs": [
        {
          "name": "stdout",
          "output_type": "stream",
          "text": [
            "Coefficients and intercept\n",
            "                  0\n",
            "Intercept -2.168507\n",
            "CAP_tot    0.978457\n",
            "CAP_long   0.146852\n",
            "CAP_avg    0.730680\n",
            "george    -0.218598\n",
            "you       -0.242282\n",
            "your      -0.084557\n",
            "hp         1.186661\n",
            "free       0.002906\n",
            "hpl        0.000567\n",
            "C!         0.000952\n"
          ]
        }
      ],
      "source": [
        "print('Coefficients and intercept')\n",
        "ct = pd.DataFrame([lda.intercept_], index=['Intercept'])\n",
        "ct = ct.append(pd.DataFrame(lda.coef_.transpose(), index=list(diff_df.index)[:]))\n",
        "print(ct)"
      ]
    },
    {
      "cell_type": "markdown",
      "metadata": {
        "id": "UKgDc4H6XC9a"
      },
      "source": [
        "### Response 4"
      ]
    },
    {
      "cell_type": "markdown",
      "metadata": {
        "id": "X1OubF3OXC9a"
      },
      "source": [
        "Linear discriminant coefficients-The LDA decision rule is formed using a linear combination of predictor variables.The coefficient of linear discriminants are CAP_tot(0.98),CAP_long(0.15),CAP_avg(0.73),george(-0.22),you(-0.24),your(-0.08),hp(1.19),free(0.003,hpl(0.0006),C!(0.001).\n",
        "A negative coefficient would be interpreted as indicating that, when the other independent variables are held constant, and increase in the independent variables of interest would mean that the discriminant function score for a case is predicted to decrease vice versa."
      ]
    },
    {
      "cell_type": "markdown",
      "metadata": {},
      "source": [
        "### Q5"
      ]
    },
    {
      "cell_type": "markdown",
      "metadata": {
        "id": "lf5hJnrCXC9a"
      },
      "source": [
        "How many linear discriminants (functions) are in the model?  Why? "
      ]
    },
    {
      "cell_type": "code",
      "execution_count": 24,
      "metadata": {
        "colab": {
          "base_uri": "https://localhost:8080/",
          "height": 423
        },
        "id": "0hNDrTDCXC9a",
        "outputId": "2518add4-27ea-4f0d-d32a-cae560a21ffd"
      },
      "outputs": [
        {
          "data": {
            "text/html": [
              "\n",
              "  <div id=\"df-93d16be3-f4b3-4e92-9888-af84926e3680\">\n",
              "    <div class=\"colab-df-container\">\n",
              "      <div>\n",
              "<style scoped>\n",
              "    .dataframe tbody tr th:only-of-type {\n",
              "        vertical-align: middle;\n",
              "    }\n",
              "\n",
              "    .dataframe tbody tr th {\n",
              "        vertical-align: top;\n",
              "    }\n",
              "\n",
              "    .dataframe thead th {\n",
              "        text-align: right;\n",
              "    }\n",
              "</style>\n",
              "<table border=\"1\" class=\"dataframe\">\n",
              "  <thead>\n",
              "    <tr style=\"text-align: right;\">\n",
              "      <th></th>\n",
              "      <th>0</th>\n",
              "    </tr>\n",
              "  </thead>\n",
              "  <tbody>\n",
              "    <tr>\n",
              "      <th>0</th>\n",
              "      <td>-1.580171</td>\n",
              "    </tr>\n",
              "    <tr>\n",
              "      <th>1</th>\n",
              "      <td>0.373723</td>\n",
              "    </tr>\n",
              "    <tr>\n",
              "      <th>2</th>\n",
              "      <td>-1.570295</td>\n",
              "    </tr>\n",
              "    <tr>\n",
              "      <th>3</th>\n",
              "      <td>-0.691449</td>\n",
              "    </tr>\n",
              "    <tr>\n",
              "      <th>4</th>\n",
              "      <td>-4.980465</td>\n",
              "    </tr>\n",
              "    <tr>\n",
              "      <th>...</th>\n",
              "      <td>...</td>\n",
              "    </tr>\n",
              "    <tr>\n",
              "      <th>2755</th>\n",
              "      <td>4.497989</td>\n",
              "    </tr>\n",
              "    <tr>\n",
              "      <th>2756</th>\n",
              "      <td>-1.027976</td>\n",
              "    </tr>\n",
              "    <tr>\n",
              "      <th>2757</th>\n",
              "      <td>0.973265</td>\n",
              "    </tr>\n",
              "    <tr>\n",
              "      <th>2758</th>\n",
              "      <td>-1.929755</td>\n",
              "    </tr>\n",
              "    <tr>\n",
              "      <th>2759</th>\n",
              "      <td>-3.851414</td>\n",
              "    </tr>\n",
              "  </tbody>\n",
              "</table>\n",
              "<p>2760 rows × 1 columns</p>\n",
              "</div>\n",
              "      <button class=\"colab-df-convert\" onclick=\"convertToInteractive('df-93d16be3-f4b3-4e92-9888-af84926e3680')\"\n",
              "              title=\"Convert this dataframe to an interactive table.\"\n",
              "              style=\"display:none;\">\n",
              "        \n",
              "  <svg xmlns=\"http://www.w3.org/2000/svg\" height=\"24px\"viewBox=\"0 0 24 24\"\n",
              "       width=\"24px\">\n",
              "    <path d=\"M0 0h24v24H0V0z\" fill=\"none\"/>\n",
              "    <path d=\"M18.56 5.44l.94 2.06.94-2.06 2.06-.94-2.06-.94-.94-2.06-.94 2.06-2.06.94zm-11 1L8.5 8.5l.94-2.06 2.06-.94-2.06-.94L8.5 2.5l-.94 2.06-2.06.94zm10 10l.94 2.06.94-2.06 2.06-.94-2.06-.94-.94-2.06-.94 2.06-2.06.94z\"/><path d=\"M17.41 7.96l-1.37-1.37c-.4-.4-.92-.59-1.43-.59-.52 0-1.04.2-1.43.59L10.3 9.45l-7.72 7.72c-.78.78-.78 2.05 0 2.83L4 21.41c.39.39.9.59 1.41.59.51 0 1.02-.2 1.41-.59l7.78-7.78 2.81-2.81c.8-.78.8-2.07 0-2.86zM5.41 20L4 18.59l7.72-7.72 1.47 1.35L5.41 20z\"/>\n",
              "  </svg>\n",
              "      </button>\n",
              "      \n",
              "  <style>\n",
              "    .colab-df-container {\n",
              "      display:flex;\n",
              "      flex-wrap:wrap;\n",
              "      gap: 12px;\n",
              "    }\n",
              "\n",
              "    .colab-df-convert {\n",
              "      background-color: #E8F0FE;\n",
              "      border: none;\n",
              "      border-radius: 50%;\n",
              "      cursor: pointer;\n",
              "      display: none;\n",
              "      fill: #1967D2;\n",
              "      height: 32px;\n",
              "      padding: 0 0 0 0;\n",
              "      width: 32px;\n",
              "    }\n",
              "\n",
              "    .colab-df-convert:hover {\n",
              "      background-color: #E2EBFA;\n",
              "      box-shadow: 0px 1px 2px rgba(60, 64, 67, 0.3), 0px 1px 3px 1px rgba(60, 64, 67, 0.15);\n",
              "      fill: #174EA6;\n",
              "    }\n",
              "\n",
              "    [theme=dark] .colab-df-convert {\n",
              "      background-color: #3B4455;\n",
              "      fill: #D2E3FC;\n",
              "    }\n",
              "\n",
              "    [theme=dark] .colab-df-convert:hover {\n",
              "      background-color: #434B5C;\n",
              "      box-shadow: 0px 1px 3px 1px rgba(0, 0, 0, 0.15);\n",
              "      filter: drop-shadow(0px 1px 2px rgba(0, 0, 0, 0.3));\n",
              "      fill: #FFFFFF;\n",
              "    }\n",
              "  </style>\n",
              "\n",
              "      <script>\n",
              "        const buttonEl =\n",
              "          document.querySelector('#df-93d16be3-f4b3-4e92-9888-af84926e3680 button.colab-df-convert');\n",
              "        buttonEl.style.display =\n",
              "          google.colab.kernel.accessAllowed ? 'block' : 'none';\n",
              "\n",
              "        async function convertToInteractive(key) {\n",
              "          const element = document.querySelector('#df-93d16be3-f4b3-4e92-9888-af84926e3680');\n",
              "          const dataTable =\n",
              "            await google.colab.kernel.invokeFunction('convertToInteractive',\n",
              "                                                     [key], {});\n",
              "          if (!dataTable) return;\n",
              "\n",
              "          const docLinkHtml = 'Like what you see? Visit the ' +\n",
              "            '<a target=\"_blank\" href=https://colab.research.google.com/notebooks/data_table.ipynb>data table notebook</a>'\n",
              "            + ' to learn more about interactive tables.';\n",
              "          element.innerHTML = '';\n",
              "          dataTable['output_type'] = 'display_data';\n",
              "          await google.colab.output.renderOutput(dataTable, element);\n",
              "          const docLink = document.createElement('div');\n",
              "          docLink.innerHTML = docLinkHtml;\n",
              "          element.appendChild(docLink);\n",
              "        }\n",
              "      </script>\n",
              "    </div>\n",
              "  </div>\n",
              "  "
            ],
            "text/plain": [
              "             0\n",
              "0    -1.580171\n",
              "1     0.373723\n",
              "2    -1.570295\n",
              "3    -0.691449\n",
              "4    -4.980465\n",
              "...        ...\n",
              "2755  4.497989\n",
              "2756 -1.027976\n",
              "2757  0.973265\n",
              "2758 -1.929755\n",
              "2759 -3.851414\n",
              "\n",
              "[2760 rows x 1 columns]"
            ]
          },
          "execution_count": 24,
          "metadata": {},
          "output_type": "execute_result"
        }
      ],
      "source": [
        "ldf=pd.DataFrame(lda.decision_function(X_train)).rename(columns ={'0': 'Score'})\n",
        "ldf"
      ]
    },
    {
      "cell_type": "markdown",
      "metadata": {
        "id": "Q7jka-gUXC9a"
      },
      "source": [
        "### Response 5"
      ]
    },
    {
      "cell_type": "markdown",
      "metadata": {
        "id": "pdXlU47BXC9b"
      },
      "source": [
        "Discriminant Function-Discriminant analysis works by creating one or more linear combinations of predictors, creating a new latent variable for each function. As there are only 2 groups(spam or non-spam)so we get only 1 Discriminant function.\n"
      ]
    },
    {
      "cell_type": "markdown",
      "metadata": {},
      "source": [
        "### Q6"
      ]
    },
    {
      "cell_type": "markdown",
      "metadata": {
        "id": "d3DRro31XC9b"
      },
      "source": [
        "Generate linear discriminants scores using your model.  How are they used in classifying spams and non-spams? "
      ]
    },
    {
      "cell_type": "code",
      "execution_count": 25,
      "metadata": {
        "colab": {
          "base_uri": "https://localhost:8080/"
        },
        "id": "fvb_TSUJmsng",
        "outputId": "f5f81d00-4071-412b-b581-1e1aeb35656d"
      },
      "outputs": [
        {
          "name": "stdout",
          "output_type": "stream",
          "text": [
            "      Classification  Actual  Score   Propensity 0  Propensity 1\n",
            "2319             NaN     NaN    0.16          0.46          0.54\n",
            "3550             0.0     0.0     NaN           NaN           NaN\n",
            "1284             NaN     NaN   -1.35          0.79          0.21\n",
            "3854             0.0     0.0     NaN           NaN           NaN\n",
            "472              NaN     NaN   -1.99          0.88          0.12\n",
            "1552             1.0     1.0   -2.98          0.95          0.05\n",
            "582              NaN     NaN   -3.83          0.98          0.02\n",
            "3260             0.0     0.0     NaN           NaN           NaN\n",
            "1085             1.0     1.0   -0.19          0.55          0.45\n",
            "2818             0.0     0.0     NaN           NaN           NaN\n"
          ]
        }
      ],
      "source": [
        "result = pd.concat([\n",
        "    pd.DataFrame({'Classification': lda.predict(X_train),\n",
        "                  'Actual': y_train}),\n",
        "    pd.DataFrame(lda.decision_function(X_train), \n",
        "                 columns=['Score ']),\n",
        "    pd.DataFrame(lda.predict_proba(X_train),columns=['Propensity {}'.format(cls) for cls in lda.classes_])], axis=1)\n",
        "\n",
        "pd.set_option('precision',2)\n",
        "print(result.sample(10))"
      ]
    },
    {
      "cell_type": "markdown",
      "metadata": {
        "id": "OtesGZemXC9b"
      },
      "source": [
        "### Response 6"
      ]
    },
    {
      "cell_type": "markdown",
      "metadata": {
        "id": "AJbFxLKNXC9b"
      },
      "source": [
        "The discriminant score is obtained by sum of the coefficient to the observation values and the intercept.\n",
        "If the discriminant score is positive, the observation is classified as spam.\n",
        "If the discriminant score is negative, the observation is classified as non-spam."
      ]
    },
    {
      "cell_type": "markdown",
      "metadata": {},
      "source": [
        "### Q7"
      ]
    },
    {
      "cell_type": "markdown",
      "metadata": {
        "id": "muV05S4bXC9c"
      },
      "source": [
        " Generate confusion matrix using the validation data. Comment on the usefulness of the model based on the results from the confusion matrix. "
      ]
    },
    {
      "cell_type": "markdown",
      "metadata": {
        "id": "hNjLDC--XC9c"
      },
      "source": [
        "Spam-> 1\n",
        "\n",
        "Non-Spam-> 0\n"
      ]
    },
    {
      "cell_type": "code",
      "execution_count": null,
      "metadata": {
        "colab": {
          "base_uri": "https://localhost:8080/"
        },
        "id": "eDFCwBsAXC9c",
        "outputId": "f0f5edbe-0b62-4975-ea94-72eaee7723f6"
      },
      "outputs": [
        {
          "name": "stdout",
          "output_type": "stream",
          "text": [
            "Confusion Matrix (Accuracy 0.8169)\n",
            "\n",
            "       Prediction\n",
            "Actual    0    1\n",
            "     0 1000   93\n",
            "     1  244  504\n"
          ]
        }
      ],
      "source": [
        "classificationSummary(y_valid,lda.predict(X_valid),class_names=lda.classes_)"
      ]
    },
    {
      "cell_type": "markdown",
      "metadata": {
        "id": "94Vclp2UXC9c"
      },
      "source": [
        "### Response 7"
      ]
    },
    {
      "cell_type": "markdown",
      "metadata": {
        "id": "CCNLIVSlXC9c"
      },
      "source": [
        "According to above confusion matrix, 1000 of the 1841 entries were accurately identified as spam, while 503 were successfully identified as non-spam. A total of 1503 observations out of 1841 observations are properly identified, with an accuracy of 81.69 percent. This indicates that the model was effective in determining the classes for the validation data and implemented."
      ]
    },
    {
      "cell_type": "markdown",
      "metadata": {},
      "source": [
        "### Q8"
      ]
    },
    {
      "cell_type": "markdown",
      "metadata": {
        "id": "Q873umDHXC9j"
      },
      "source": [
        " Generate lift and decile charts using the validation data. Comment on the usefulness of the model based on the results from these charts. "
      ]
    },
    {
      "cell_type": "code",
      "execution_count": null,
      "metadata": {
        "id": "Spq_zoVVXC9j",
        "outputId": "431356b8-aeba-4b25-9c1a-d2ebe7ba3fb1"
      },
      "outputs": [
        {
          "data": {
            "image/png": "[encoded data removed]",
            "text/plain": [
              "<Figure size 648x432 with 2 Axes>"
            ]
          },
          "metadata": {
            "needs_background": "light"
          },
          "output_type": "display_data"
        }
      ],
      "source": [
        "pred_v = pd.Series(lda.predict(X_valid))\n",
        "pred_v = pred_v.sort_values(ascending=False)\n",
        "\n",
        "fig, axes = plt.subplots(nrows=1, ncols=2)\n",
        "fig.set_size_inches(9, 6)\n",
        "ax = gainsChart(pred_v, ax=axes[0])\n",
        "ax.set_ylabel('Cumulative Price')\n",
        "ax.set_title('Cumulative Gains/lift Chart')\n",
        "\n",
        "ax = liftChart(pred_v, ax=axes[1], labelBars=False )\n",
        "ax.set_ylabel('Lift')\n",
        "\n",
        "plt.tight_layout()\n",
        "plt.show()\n"
      ]
    },
    {
      "cell_type": "markdown",
      "metadata": {
        "id": "-vFiMyrNXC9j"
      },
      "source": [
        "### Response 8"
      ]
    },
    {
      "cell_type": "markdown",
      "metadata": {
        "id": "kKYDIvteXC9j"
      },
      "source": [
        "In the above Gains/lift chart, the difference between the dashed lines and the blue line is significant higher, we conclude that our model is good. \n",
        "\n",
        "In the above Decile chart, there is a no decrease in chart so we cannot conclude that our model is good."
      ]
    }
  ],
  "metadata": {
    "colab": {
      "collapsed_sections": [],
      "name": "DSCI5240_HW4_Group11.ipynb",
      "provenance": []
    },
    "kernelspec": {
      "display_name": "Python 3 (ipykernel)",
      "language": "python",
      "name": "python3"
    },
    "language_info": {
      "codemirror_mode": {
        "name": "ipython",
        "version": 3
      },
      "file_extension": ".py",
      "mimetype": "text/x-python",
      "name": "python",
      "nbconvert_exporter": "python",
      "pygments_lexer": "ipython3",
      "version": "3.10.2"
    }
  },
  "nbformat": 4,
  "nbformat_minor": 0
}
